{
 "cells": [
  {
   "cell_type": "code",
   "execution_count": 536,
   "id": "09e885c5",
   "metadata": {},
   "outputs": [],
   "source": [
    "import pandas as pd\n",
    "import numpy as np\n",
    "from collections import Counter\n",
    "from sklearn.metrics import accuracy_score,confusion_matrix\n",
    "import random\n",
    "from statistics import mean\n",
    "import statsmodels.api as sm\n",
    "import matplotlib.pyplot as plt\n",
    "import seaborn as sns\n",
    "sns.set()\n",
    "from sklearn.cluster import KMeans"
   ]
  },
  {
   "cell_type": "code",
   "execution_count": 537,
   "id": "55cd1f6b",
   "metadata": {},
   "outputs": [],
   "source": [
    "np.random.seed(40)"
   ]
  },
  {
   "cell_type": "code",
   "execution_count": 538,
   "id": "ad5c231c",
   "metadata": {},
   "outputs": [],
   "source": [
    "df = pd.read_csv(\"fruit_data_with_colors.txt\",delimiter = \"\\t\")\n"
   ]
  },
  {
   "cell_type": "code",
   "execution_count": 539,
   "id": "f01f3e13",
   "metadata": {},
   "outputs": [],
   "source": [
    "df=df.drop('fruit_label', axis=1)"
   ]
  },
  {
   "cell_type": "code",
   "execution_count": 540,
   "id": "5ef32157",
   "metadata": {},
   "outputs": [],
   "source": [
    "df1=df.sample(n=4)"
   ]
  },
  {
   "cell_type": "code",
   "execution_count": 541,
   "id": "94a4bb4b",
   "metadata": {},
   "outputs": [],
   "source": [
    "df1=df1.drop(['fruit_name','fruit_subtype'],axis=1)"
   ]
  },
  {
   "cell_type": "code",
   "execution_count": 542,
   "id": "ccb576fe",
   "metadata": {},
   "outputs": [],
   "source": [
    "X = df[[\"mass\",\"width\",\"height\",\"color_score\"]]"
   ]
  },
  {
   "cell_type": "code",
   "execution_count": 543,
   "id": "158a7b4d",
   "metadata": {},
   "outputs": [
    {
     "data": {
      "image/png": "[encoded data removed]",
      "text/plain": [
       "<Figure size 432x288 with 1 Axes>"
      ]
     },
     "metadata": {},
     "output_type": "display_data"
    }
   ],
   "source": [
    "plt.scatter(df['width'],df['height'])\n",
    "plt.show()"
   ]
  },
  {
   "cell_type": "code",
   "execution_count": 544,
   "id": "936d739f",
   "metadata": {},
   "outputs": [],
   "source": [
    "def euclidian_distance(query,X):\n",
    "        difference = np.array(X) - np.array(query)\n",
    "        sqrd_diff = np.square(difference)\n",
    "        sum_sqrd_diff = np.sum(sqrd_diff, axis = 1)\n",
    "        distance = np.sqrt(sum_sqrd_diff)\n",
    "        return distance"
   ]
  },
  {
   "cell_type": "code",
   "execution_count": 545,
   "id": "deb37cab",
   "metadata": {},
   "outputs": [
    {
     "data": {
      "text/plain": [
       "array([[ 84.  ,   6.  ,   4.6 ,   0.79],\n",
       "       [190.  ,   7.5 ,   8.1 ,   0.74],\n",
       "       [160.  ,   7.5 ,   7.5 ,   0.86],\n",
       "       [118.  ,   6.1 ,   8.1 ,   0.7 ]])"
      ]
     },
     "execution_count": 545,
     "metadata": {},
     "output_type": "execute_result"
    }
   ],
   "source": [
    "c=np.array(df1)\n",
    "c"
   ]
  },
  {
   "cell_type": "code",
   "execution_count": 546,
   "id": "328a73b9",
   "metadata": {},
   "outputs": [],
   "source": [
    "xd=np.array(X)\n"
   ]
  },
  {
   "cell_type": "code",
   "execution_count": 547,
   "id": "6a4fbad9",
   "metadata": {},
   "outputs": [
    {
     "data": {
      "text/plain": [
       "array([108.06066629,   2.34224252,  32.0147794 ,  74.04020867])"
      ]
     },
     "execution_count": 547,
     "metadata": {},
     "output_type": "execute_result"
    }
   ],
   "source": [
    "euclidian_distance(xd[0],c)"
   ]
  },
  {
   "cell_type": "code",
   "execution_count": 553,
   "id": "f91baec7",
   "metadata": {},
   "outputs": [
    {
     "name": "stdout",
     "output_type": "stream",
     "text": [
      "[112.35294118   6.2          6.88823529   0.75294118] [3.0e+04 7.1e+00 7.5e+00 7.8e-01] [1.0e+03 7.6e+00 7.5e+00 6.7e-01] [185.35      7.49      8.0475    0.76925]\n"
     ]
    }
   ],
   "source": [
    "for j in range(10):\n",
    "    c1=[]\n",
    "    c2=[]\n",
    "    c3=[]\n",
    "    c4=[]\n",
    "\n",
    "    for i in range(len(xd)):\n",
    "        index=np.argmin(euclidian_distance(xd[i],c))\n",
    "        if index==0:\n",
    "            c1.append(xd[i])\n",
    "        elif index==1:\n",
    "            c2.append(xd[i])\n",
    "        elif index==2:\n",
    "            c3.append(xd[i])\n",
    "        else:\n",
    "            c4.append(xd[i])\n",
    "            \n",
    "            \n",
    "        \n",
    "    c[0]=np.array(np.mean(c1,axis=0))\n",
    "    c[1]=np.array(np.mean(c2,axis=0))\n",
    "    c[2]=np.array(np.mean(c3,axis=0))\n",
    "    c[3]=np.array(np.mean(c4,axis=0))\n",
    "    \n",
    "\n",
    "    \n",
    "\n",
    "    "
   ]
  },
  {
   "cell_type": "code",
   "execution_count": 555,
   "id": "961a97f9",
   "metadata": {},
   "outputs": [
    {
     "data": {
      "text/plain": [
       "(array([112.35294118,   6.2       ,   6.88823529,   0.75294118]),\n",
       " array([3.0e+04, 7.1e+00, 7.5e+00, 7.8e-01]),\n",
       " array([1.0e+03, 7.6e+00, 7.5e+00, 6.7e-01]),\n",
       " array([185.35   ,   7.49   ,   8.0475 ,   0.76925]))"
      ]
     },
     "execution_count": 555,
     "metadata": {},
     "output_type": "execute_result"
    }
   ],
   "source": [
    "c[0],c[1],c[2],c[3]"
   ]
  },
  {
   "cell_type": "code",
   "execution_count": 556,
   "id": "8c31cedf",
   "metadata": {},
   "outputs": [
    {
     "data": {
      "text/plain": [
       "([array([86. ,  6.2,  4.7,  0.8]),\n",
       "  array([84.  ,  6.  ,  4.6 ,  0.79]),\n",
       "  array([80.  ,  5.8 ,  4.3 ,  0.77]),\n",
       "  array([80.  ,  5.9 ,  4.3 ,  0.81]),\n",
       "  array([76.  ,  5.8 ,  4.  ,  0.81]),\n",
       "  array([140.  ,   7.3 ,   7.1 ,   0.87]),\n",
       "  array([140.  ,   6.7 ,   7.1 ,   0.72]),\n",
       "  array([142.  ,   7.6 ,   7.8 ,   0.75]),\n",
       "  array([132.  ,   5.8 ,   8.7 ,   0.73]),\n",
       "  array([130.  ,   6.  ,   8.2 ,   0.71]),\n",
       "  array([116.  ,   6.  ,   7.5 ,   0.72]),\n",
       "  array([118.  ,   5.9 ,   8.  ,   0.72]),\n",
       "  array([120.  ,   6.  ,   8.4 ,   0.74]),\n",
       "  array([116.  ,   6.1 ,   8.5 ,   0.71]),\n",
       "  array([116.  ,   6.3 ,   7.7 ,   0.72]),\n",
       "  array([116.  ,   5.9 ,   8.1 ,   0.73]),\n",
       "  array([118. ,   6.1,   8.1,   0.7])],\n",
       " [array([3.0e+04, 7.1e+00, 7.5e+00, 7.8e-01])],\n",
       " [array([1.0e+03, 7.6e+00, 7.5e+00, 6.7e-01])],\n",
       " [array([192.  ,   8.4 ,   7.3 ,   0.55]),\n",
       "  array([180.  ,   8.  ,   6.8 ,   0.59]),\n",
       "  array([176. ,   7.4,   7.2,   0.6]),\n",
       "  array([178.  ,   7.1 ,   7.8 ,   0.92]),\n",
       "  array([172.  ,   7.4 ,   7.  ,   0.89]),\n",
       "  array([166.  ,   6.9 ,   7.3 ,   0.93]),\n",
       "  array([172.  ,   7.1 ,   7.6 ,   0.92]),\n",
       "  array([154.  ,   7.  ,   7.1 ,   0.88]),\n",
       "  array([164. ,   7.3,   7.7,   0.7]),\n",
       "  array([152.  ,   7.6 ,   7.3 ,   0.69]),\n",
       "  array([156.  ,   7.7 ,   7.1 ,   0.69]),\n",
       "  array([168.  ,   7.5 ,   7.6 ,   0.73]),\n",
       "  array([162.  ,   7.5 ,   7.1 ,   0.83]),\n",
       "  array([162.  ,   7.4 ,   7.2 ,   0.85]),\n",
       "  array([160.  ,   7.5 ,   7.5 ,   0.86]),\n",
       "  array([156.  ,   7.4 ,   7.4 ,   0.84]),\n",
       "  array([170.  ,   7.6 ,   7.9 ,   0.88]),\n",
       "  array([342.  ,   9.  ,   9.4 ,   0.75]),\n",
       "  array([356.  ,   9.2 ,   9.2 ,   0.75]),\n",
       "  array([362.  ,   9.6 ,   9.2 ,   0.74]),\n",
       "  array([204.  ,   7.5 ,   9.2 ,   0.77]),\n",
       "  array([160.  ,   7.  ,   7.4 ,   0.81]),\n",
       "  array([158.  ,   7.1 ,   7.5 ,   0.79]),\n",
       "  array([210.  ,   7.8 ,   8.  ,   0.82]),\n",
       "  array([164. ,   7.2,   7. ,   0.8]),\n",
       "  array([190.  ,   7.5 ,   8.1 ,   0.74]),\n",
       "  array([150.  ,   7.1 ,   7.9 ,   0.75]),\n",
       "  array([160.  ,   7.1 ,   7.6 ,   0.76]),\n",
       "  array([154.  ,   7.3 ,   7.3 ,   0.79]),\n",
       "  array([158.  ,   7.2 ,   7.8 ,   0.77]),\n",
       "  array([154.  ,   7.3 ,   7.5 ,   0.76]),\n",
       "  array([180.  ,   7.6 ,   8.2 ,   0.79]),\n",
       "  array([154.  ,   7.2 ,   7.2 ,   0.82]),\n",
       "  array([194. ,   7.2,  10.3,   0.7]),\n",
       "  array([200.  ,   7.3 ,  10.5 ,   0.72]),\n",
       "  array([186.  ,   7.2 ,   9.2 ,   0.72]),\n",
       "  array([216.  ,   7.3 ,  10.2 ,   0.71]),\n",
       "  array([196.  ,   7.3 ,   9.7 ,   0.72]),\n",
       "  array([174.  ,   7.3 ,  10.1 ,   0.72]),\n",
       "  array([152.  ,   6.5 ,   8.5 ,   0.72])])"
      ]
     },
     "execution_count": 556,
     "metadata": {},
     "output_type": "execute_result"
    }
   ],
   "source": [
    "c1,c2,c3,c4"
   ]
  }
 ],
 "metadata": {
  "kernelspec": {
   "display_name": "Python 3",
   "language": "python",
   "name": "python3"
  },
  "language_info": {
   "codemirror_mode": {
    "name": "ipython",
    "version": 3
   },
   "file_extension": ".py",
   "mimetype": "text/x-python",
   "name": "python",
   "nbconvert_exporter": "python",
   "pygments_lexer": "ipython3",
   "version": "3.8.8"
  }
 },
 "nbformat": 4,
 "nbformat_minor": 5
}
